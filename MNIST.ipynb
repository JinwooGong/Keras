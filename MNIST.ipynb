{
 "cells": [
  {
   "cell_type": "markdown",
   "metadata": {},
   "source": [
    "# MNIST\n",
    "흑백 손글씨 숫자 이미지(28*28)를 10개의 범주(0-9)로 분류하는 것"
   ]
  },
  {
   "cell_type": "markdown",
   "metadata": {},
   "source": [
    "## 케라스에서 MNIST 데이터셋 적재하기"
   ]
  },
  {
   "cell_type": "markdown",
   "metadata": {},
   "source": [
    "- 클래스와 레이블에 관한 노트\n",
    "\n",
    "    머신 러닝에서 분류 문제의 category를 class라고 합니다. <br>\n",
    "    데이터 포인트는 sample이라고 합니다.<br>\n",
    "    특정 샘플의 클래스는 label이라고 합니다."
   ]
  },
  {
   "cell_type": "code",
   "execution_count": 5,
   "metadata": {},
   "outputs": [],
   "source": [
    "from keras.datasets import mnist\n",
    "(train_images, train_labels), (test_images, test_labels) = mnist.load_data()"
   ]
  },
  {
   "cell_type": "markdown",
   "metadata": {},
   "source": [
    "6만 개의 훈련 이미지와 1만 개의 테스트 이미지로 구성"
   ]
  },
  {
   "cell_type": "code",
   "execution_count": 15,
   "metadata": {},
   "outputs": [
    {
     "name": "stdout",
     "output_type": "stream",
     "text": [
      "train_images.shape : (60000, 28, 28)\n",
      "len(train_lables) : 60000\n",
      "train_labels : [5 0 4 ... 5 6 8]\n"
     ]
    }
   ],
   "source": [
    "# 훈련 데이터\n",
    "print('train_images.shape : {}'.format(train_images.shape))\n",
    "print('len(train_lables) : {}'.format(len(train_labels)))\n",
    "print('train_labels : {}'.format(train_labels))"
   ]
  },
  {
   "cell_type": "code",
   "execution_count": 16,
   "metadata": {},
   "outputs": [
    {
     "name": "stdout",
     "output_type": "stream",
     "text": [
      "test_images.shapes : (10000, 28, 28)\n",
      "len(test_labels) : 10000\n",
      "test_labels : [7 2 1 ... 4 5 6]\n"
     ]
    }
   ],
   "source": [
    "# 테스트 데이터\n",
    "print('test_images.shapes : {}'.format(test_images.shape))\n",
    "print('len(test_labels) : {}'.format(len(test_labels)))\n",
    "print('test_labels : {}'.format(test_labels))"
   ]
  },
  {
   "cell_type": "markdown",
   "metadata": {},
   "source": [
    "### 작업 순서\n",
    "1. 훈련 데이터 train_images와 train_labels를 네트워크에 주입합니다.\n",
    "2. 네트워크는 이미지와 레이블을 연관시킬 수 있도록 학습됩니다.\n",
    "3. test_images에 대한 예측을 네트워크에 요청합니다.\n",
    "4. 이 예측이 test_labels와 맞는지 확인합니다."
   ]
  },
  {
   "cell_type": "code",
   "execution_count": 17,
   "metadata": {},
   "outputs": [],
   "source": [
    "# 신경망 구조\n",
    "from keras import models\n",
    "from keras import layers\n",
    "\n",
    "model = models.Sequential()\n",
    "model.add(layers.Dense(512,activation='relu', input_shape=(28*28,)))\n",
    "model.add(layers.Dense(10,activation='softmax'))"
   ]
  },
  {
   "cell_type": "markdown",
   "metadata": {},
   "source": [
    "신경망 층인 Dense 층 2개가 연속되어 있으며 마지막의 층은 10개의 확률 점수가 들어있는 배열을 반환하는 softmax층입니다.<br>\n",
    "각 점수는 현재 숫자 이미지가 10개의 숫자 클래스 중 하나에 속할 확률입니다."
   ]
  },
  {
   "cell_type": "markdown",
   "metadata": {},
   "source": [
    "신경망이 훈련 준비를 마치기 위해서 컴파일 단계에 포함될 세가지가 더 필요합니다.\n",
    "- 손실함수\n",
    "- 옵티마이저\n",
    "- 훈련과 테스트 과정을 모니터링할 지표"
   ]
  },
  {
   "cell_type": "code",
   "execution_count": 18,
   "metadata": {},
   "outputs": [],
   "source": [
    "model.compile(optimizer='rmsprop', loss='categorical_crossentropy', metrics=['accuracy'])"
   ]
  },
  {
   "cell_type": "markdown",
   "metadata": {},
   "source": [
    "훈련 이미지는 [0,255] 사이의 값인 uint8 타입의 크기를 가진 배열로 저장 되어있기 때문에 0과 1 사이의 값을 가지는 float32타입의 배열로 변환해야합니다.\n",
    "\n",
    "(60000, 28, 28) => (60000, 28*28)"
   ]
  },
  {
   "cell_type": "code",
   "execution_count": 37,
   "metadata": {},
   "outputs": [
    {
     "name": "stdout",
     "output_type": "stream",
     "text": [
      "== before train_images ==\n",
      "shape : (60000, 28, 28)\n",
      "type : <class 'numpy.uint8'>\n",
      "\n",
      "== before test_images ==\n",
      "shape : (10000, 28, 28)\n",
      "type : <class 'numpy.uint8'>\n"
     ]
    }
   ],
   "source": [
    "# 이미지 데이터 준비하기\n",
    "print('== Before train_images ==')\n",
    "print('shape : {}'.format(train_images.shape))\n",
    "print('type : {}'.format(type(train_images[0,0,0])))\n",
    "\n",
    "print()\n",
    "print('== Before test_images ==')\n",
    "print('shape : {}'.format(test_images.shape))\n",
    "print('type : {}'.format(type(test_images[0,0,0])))"
   ]
  },
  {
   "cell_type": "code",
   "execution_count": 39,
   "metadata": {},
   "outputs": [],
   "source": [
    "train_images = train_images.reshape((60000, 28*28))\n",
    "train_images = train_images.astype('float32')/255\n",
    "\n",
    "test_images = test_images.reshape((10000,28*28))\n",
    "test_images = test_images.astype('float32')/255"
   ]
  },
  {
   "cell_type": "code",
   "execution_count": 43,
   "metadata": {},
   "outputs": [
    {
     "name": "stdout",
     "output_type": "stream",
     "text": [
      "== After train_images ==\n",
      "shape : (60000, 784)\n",
      "type : <class 'numpy.float32'>\n",
      "\n",
      "== After test_images ==\n",
      "shape : (10000, 784)\n",
      "type : <class 'numpy.float32'>\n"
     ]
    }
   ],
   "source": [
    "print('== After train_images ==')\n",
    "print('shape : {}'.format(train_images.shape))\n",
    "print('type : {}'.format(type(train_images[0,0])))\n",
    "print()\n",
    "print('== After test_images ==')\n",
    "print('shape : {}'.format(test_images.shape))\n",
    "print('type : {}'.format(type(test_images[0,0])))"
   ]
  },
  {
   "cell_type": "code",
   "execution_count": 46,
   "metadata": {},
   "outputs": [],
   "source": [
    "# 레이블 범주형으로 인코딩\n",
    "from keras.utils import to_categorical\n",
    "\n",
    "train_labels = to_categorical(train_labels)\n",
    "test_labels = to_categorical(test_labels)"
   ]
  },
  {
   "cell_type": "code",
   "execution_count": 49,
   "metadata": {},
   "outputs": [
    {
     "name": "stdout",
     "output_type": "stream",
     "text": [
      "Epoch 1/5\n",
      "60000/60000 [==============================] - 1s 25us/step - loss: 0.2037 - accuracy: 0.9421\n",
      "Epoch 2/5\n",
      "60000/60000 [==============================] - 2s 25us/step - loss: 0.1960 - accuracy: 0.9440\n",
      "Epoch 3/5\n",
      "60000/60000 [==============================] - 2s 25us/step - loss: 0.1884 - accuracy: 0.9462\n",
      "Epoch 4/5\n",
      "60000/60000 [==============================] - 1s 25us/step - loss: 0.1810 - accuracy: 0.9490\n",
      "Epoch 5/5\n",
      "60000/60000 [==============================] - 1s 24us/step - loss: 0.1742 - accuracy: 0.9508\n"
     ]
    }
   ],
   "source": [
    "# 모델 학습\n",
    "history = model.fit(train_images, train_labels, epochs=5, batch_size=128)"
   ]
  },
  {
   "cell_type": "code",
   "execution_count": 50,
   "metadata": {},
   "outputs": [
    {
     "name": "stdout",
     "output_type": "stream",
     "text": [
      "10000/10000 [==============================] - 0s 21us/step\n"
     ]
    }
   ],
   "source": [
    "# 테스트 세트의 정확도 확인\n",
    "test_loss, test_acc = model.evaluate(test_images, test_labels)"
   ]
  },
  {
   "cell_type": "code",
   "execution_count": 51,
   "metadata": {},
   "outputs": [
    {
     "name": "stdout",
     "output_type": "stream",
     "text": [
      "test_acc :  0.9337999820709229\n"
     ]
    }
   ],
   "source": [
    "print('test_acc : ',test_acc)"
   ]
  },
  {
   "cell_type": "code",
   "execution_count": null,
   "metadata": {},
   "outputs": [],
   "source": []
  }
 ],
 "metadata": {
  "kernelspec": {
   "display_name": "Python 3",
   "language": "python",
   "name": "python3"
  },
  "language_info": {
   "codemirror_mode": {
    "name": "ipython",
    "version": 3
   },
   "file_extension": ".py",
   "mimetype": "text/x-python",
   "name": "python",
   "nbconvert_exporter": "python",
   "pygments_lexer": "ipython3",
   "version": "3.8.3"
  }
 },
 "nbformat": 4,
 "nbformat_minor": 4
}
