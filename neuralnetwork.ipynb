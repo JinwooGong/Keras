{
 "cells": [
  {
   "cell_type": "markdown",
   "metadata": {},
   "source": [
    "# 신경망의 구조\n",
    "신경망 훈련과 관련된 요소\n",
    "- 네트워크를 구성하는 층\n",
    "- 입력 데이터와 그에 상응하는 타깃\n",
    "- 학습에 사용할 피드백 신호를 정의하는 손실 함수\n",
    "- 학습 진행 방식을 결정하는 옵티마이저\n",
    "\n",
    "<mark><strong>연속된 층</strong></mark>으로 구성된 네트워크가 입력 데이터를 <mark><strong>예측으로 매핑</strong></mark>합니다.<br>\n",
    "<mark><strong>손실 함수</strong></mark>는 예측과 타깃을 비교하여 예측이 기대값에 얼마나 잘 맞는지 <mark><strong>손실 값</strong></mark>을 만듭니다.<br>\n",
    "<mark><strong>옵티마이저</strong></mark>는 손실 값을 사용하여 네트워크 <mark><strong>가중치를 업데이트</strong></mark>합니다."
   ]
  },
  {
   "cell_type": "markdown",
   "metadata": {},
   "source": [
    "## 층 : 딥러닝의 구성 단위\n",
    "<strong>층</strong>은 하나 이상의 텐서를 입력으로 받아 하나 이상의 텐서를 출력하는 데이터 처리 모듈입니다. 대부분의 층은 <strong>가중치</strong>라는 층의 상태를 가집니다. <br><strong>가중치</strong>는 확률적 경사 하강법에 의해 학습되는 하나 이상의 텐서이며 네트워크가 학습한 <strong>지식</strong>이 답겨있습니다.\n",
    "\n",
    "2D 텐서의 간단한 벡터 데이터는 <strong>밀집 연결 층</strong>에 의해 처리됩니다.<br>\n",
    "3D 텐서의 시퀀스 데이터는 보통 <strong>순환 층</strong>에 의해 처리됩니다.<br>\n",
    "4D 텐서의 이미지 데이터는 <strong>2D 합성곱 층</strong>에 의해 처리됩니다."
   ]
  },
  {
   "cell_type": "code",
   "execution_count": 2,
   "metadata": {},
   "outputs": [],
   "source": [
    "from keras import models\n",
    "from keras import layers\n",
    "\n",
    "model = models.Sequential()\n",
    "model.add(layers.Dense(32,input_shape=(784,)))# 첫 번째 원이 784인 2D 텐서만 입력으로 받는 층을 만들고 크기가 32로 변환된 텐서를 출력합니다.\n",
    "model.add(layers.Dense(10))# 2 첫 번째 층의 출력 크기를 입력 크기로 자동으로 설정합니다."
   ]
  },
  {
   "cell_type": "markdown",
   "metadata": {},
   "source": [
    "## 모델 : 층의 네트워크\n",
    "<strong>딥러닝 모델</strong>은 층으로 만든 비순환 유향 그래프(DAG)입니다.\n",
    "\n",
    "자주 등장하는 네트워크 구조\n",
    "- branch가 2개인 네트워크\n",
    "- 출력이 여러 개인 네트워크\n",
    "- Inception Block"
   ]
  },
  {
   "cell_type": "markdown",
   "metadata": {},
   "source": [
    "## 손실함수와 옵티마이저 : 학습 과정을 조절하는 열쇠\n",
    "- <strong>손실 함수 : </strong>훈련하는 동안 최소화될 값입니다.\n",
    "- <strong>옵티마이저 : </strong>손실 함수를 기반으로 네트워크가 어떻게 업데이트될지 결정합니다.\n",
    "\n",
    "문제에 맞는 올바른 목적 함수를 선택하는 것이 중요합니다. 목적 함수를 현명하게 선택하지 않으면 원하지 않는 부수 효과가 발생할 것입니다.\n",
    "\n",
    "- 2개의 클래스가 있는 분류 문제 : binary_crossentropy\n",
    "- 여러 개의 클래스가 있는 분류 문제 : categorical_crossentropy\n",
    "- 회귀 문제 : 평균 제곱 오차\n",
    "- 시퀀스 학습 문제 : "
   ]
  },
  {
   "cell_type": "code",
   "execution_count": null,
   "metadata": {},
   "outputs": [],
   "source": []
  }
 ],
 "metadata": {
  "kernelspec": {
   "display_name": "Python 3",
   "language": "python",
   "name": "python3"
  },
  "language_info": {
   "codemirror_mode": {
    "name": "ipython",
    "version": 3
   },
   "file_extension": ".py",
   "mimetype": "text/x-python",
   "name": "python",
   "nbconvert_exporter": "python",
   "pygments_lexer": "ipython3",
   "version": "3.8.3"
  }
 },
 "nbformat": 4,
 "nbformat_minor": 4
}
